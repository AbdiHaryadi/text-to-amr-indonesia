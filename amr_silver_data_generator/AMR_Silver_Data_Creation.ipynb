{
  "nbformat": 4,
  "nbformat_minor": 0,
  "metadata": {
    "colab": {
      "name": "[TA] AMR Silver Data Creation.ipynb",
      "provenance": [],
      "collapsed_sections": []
    },
    "kernelspec": {
      "name": "python3",
      "display_name": "Python 3"
    },
    "language_info": {
      "name": "python"
    },
    "widgets": {
      "application/vnd.jupyter.widget-state+json": {
        "b2e2c44cdd5c48d3879e28a4d2b99277": {
          "model_module": "@jupyter-widgets/controls",
          "model_name": "HBoxModel",
          "model_module_version": "1.5.0",
          "state": {
            "_view_name": "HBoxView",
            "_dom_classes": [],
            "_model_name": "HBoxModel",
            "_view_module": "@jupyter-widgets/controls",
            "_model_module_version": "1.5.0",
            "_view_count": null,
            "_view_module_version": "1.5.0",
            "box_style": "",
            "layout": "IPY_MODEL_e57a66d4e4db465b9be2e64628ba00b6",
            "_model_module": "@jupyter-widgets/controls",
            "children": [
              "IPY_MODEL_dbfb9799e70f411e9d4e27e0f79ed422",
              "IPY_MODEL_57a779e3d4c6472ea3c4337b511d3913",
              "IPY_MODEL_7a0bc44992884c148f4f5e1d8b9a7a14"
            ]
          }
        },
        "e57a66d4e4db465b9be2e64628ba00b6": {
          "model_module": "@jupyter-widgets/base",
          "model_name": "LayoutModel",
          "model_module_version": "1.2.0",
          "state": {
            "_view_name": "LayoutView",
            "grid_template_rows": null,
            "right": null,
            "justify_content": null,
            "_view_module": "@jupyter-widgets/base",
            "overflow": null,
            "_model_module_version": "1.2.0",
            "_view_count": null,
            "flex_flow": null,
            "width": null,
            "min_width": null,
            "border": null,
            "align_items": null,
            "bottom": null,
            "_model_module": "@jupyter-widgets/base",
            "top": null,
            "grid_column": null,
            "overflow_y": null,
            "overflow_x": null,
            "grid_auto_flow": null,
            "grid_area": null,
            "grid_template_columns": null,
            "flex": null,
            "_model_name": "LayoutModel",
            "justify_items": null,
            "grid_row": null,
            "max_height": null,
            "align_content": null,
            "visibility": null,
            "align_self": null,
            "height": null,
            "min_height": null,
            "padding": null,
            "grid_auto_rows": null,
            "grid_gap": null,
            "max_width": null,
            "order": null,
            "_view_module_version": "1.2.0",
            "grid_template_areas": null,
            "object_position": null,
            "object_fit": null,
            "grid_auto_columns": null,
            "margin": null,
            "display": null,
            "left": null
          }
        },
        "dbfb9799e70f411e9d4e27e0f79ed422": {
          "model_module": "@jupyter-widgets/controls",
          "model_name": "HTMLModel",
          "model_module_version": "1.5.0",
          "state": {
            "_view_name": "HTMLView",
            "style": "IPY_MODEL_3322c0195a64487fb25c730a61980254",
            "_dom_classes": [],
            "description": "",
            "_model_name": "HTMLModel",
            "placeholder": "​",
            "_view_module": "@jupyter-widgets/controls",
            "_model_module_version": "1.5.0",
            "value": "Downloading https://raw.githubusercontent.com/stanfordnlp/stanza-resources/main/resources_1.2.1.json: ",
            "_view_count": null,
            "_view_module_version": "1.5.0",
            "description_tooltip": null,
            "_model_module": "@jupyter-widgets/controls",
            "layout": "IPY_MODEL_42b319397a0a4249ad09cc5d25531bb9"
          }
        },
        "57a779e3d4c6472ea3c4337b511d3913": {
          "model_module": "@jupyter-widgets/controls",
          "model_name": "FloatProgressModel",
          "model_module_version": "1.5.0",
          "state": {
            "_view_name": "ProgressView",
            "style": "IPY_MODEL_b4e115ecda204b68b6afabec0741f880",
            "_dom_classes": [],
            "description": "",
            "_model_name": "FloatProgressModel",
            "bar_style": "success",
            "max": 23895,
            "_view_module": "@jupyter-widgets/controls",
            "_model_module_version": "1.5.0",
            "value": 23895,
            "_view_count": null,
            "_view_module_version": "1.5.0",
            "orientation": "horizontal",
            "min": 0,
            "description_tooltip": null,
            "_model_module": "@jupyter-widgets/controls",
            "layout": "IPY_MODEL_206564129e094e0a922a467c29f7cadc"
          }
        },
        "7a0bc44992884c148f4f5e1d8b9a7a14": {
          "model_module": "@jupyter-widgets/controls",
          "model_name": "HTMLModel",
          "model_module_version": "1.5.0",
          "state": {
            "_view_name": "HTMLView",
            "style": "IPY_MODEL_3748b404aa764caca052e7bfc115cc6b",
            "_dom_classes": [],
            "description": "",
            "_model_name": "HTMLModel",
            "placeholder": "​",
            "_view_module": "@jupyter-widgets/controls",
            "_model_module_version": "1.5.0",
            "value": " 139k/? [00:00&lt;00:00, 3.85MB/s]",
            "_view_count": null,
            "_view_module_version": "1.5.0",
            "description_tooltip": null,
            "_model_module": "@jupyter-widgets/controls",
            "layout": "IPY_MODEL_3f184a7e81384512b7d90a2587e25807"
          }
        },
        "3322c0195a64487fb25c730a61980254": {
          "model_module": "@jupyter-widgets/controls",
          "model_name": "DescriptionStyleModel",
          "model_module_version": "1.5.0",
          "state": {
            "_view_name": "StyleView",
            "_model_name": "DescriptionStyleModel",
            "description_width": "",
            "_view_module": "@jupyter-widgets/base",
            "_model_module_version": "1.5.0",
            "_view_count": null,
            "_view_module_version": "1.2.0",
            "_model_module": "@jupyter-widgets/controls"
          }
        },
        "42b319397a0a4249ad09cc5d25531bb9": {
          "model_module": "@jupyter-widgets/base",
          "model_name": "LayoutModel",
          "model_module_version": "1.2.0",
          "state": {
            "_view_name": "LayoutView",
            "grid_template_rows": null,
            "right": null,
            "justify_content": null,
            "_view_module": "@jupyter-widgets/base",
            "overflow": null,
            "_model_module_version": "1.2.0",
            "_view_count": null,
            "flex_flow": null,
            "width": null,
            "min_width": null,
            "border": null,
            "align_items": null,
            "bottom": null,
            "_model_module": "@jupyter-widgets/base",
            "top": null,
            "grid_column": null,
            "overflow_y": null,
            "overflow_x": null,
            "grid_auto_flow": null,
            "grid_area": null,
            "grid_template_columns": null,
            "flex": null,
            "_model_name": "LayoutModel",
            "justify_items": null,
            "grid_row": null,
            "max_height": null,
            "align_content": null,
            "visibility": null,
            "align_self": null,
            "height": null,
            "min_height": null,
            "padding": null,
            "grid_auto_rows": null,
            "grid_gap": null,
            "max_width": null,
            "order": null,
            "_view_module_version": "1.2.0",
            "grid_template_areas": null,
            "object_position": null,
            "object_fit": null,
            "grid_auto_columns": null,
            "margin": null,
            "display": null,
            "left": null
          }
        },
        "b4e115ecda204b68b6afabec0741f880": {
          "model_module": "@jupyter-widgets/controls",
          "model_name": "ProgressStyleModel",
          "model_module_version": "1.5.0",
          "state": {
            "_view_name": "StyleView",
            "_model_name": "ProgressStyleModel",
            "description_width": "",
            "_view_module": "@jupyter-widgets/base",
            "_model_module_version": "1.5.0",
            "_view_count": null,
            "_view_module_version": "1.2.0",
            "bar_color": null,
            "_model_module": "@jupyter-widgets/controls"
          }
        },
        "206564129e094e0a922a467c29f7cadc": {
          "model_module": "@jupyter-widgets/base",
          "model_name": "LayoutModel",
          "model_module_version": "1.2.0",
          "state": {
            "_view_name": "LayoutView",
            "grid_template_rows": null,
            "right": null,
            "justify_content": null,
            "_view_module": "@jupyter-widgets/base",
            "overflow": null,
            "_model_module_version": "1.2.0",
            "_view_count": null,
            "flex_flow": null,
            "width": null,
            "min_width": null,
            "border": null,
            "align_items": null,
            "bottom": null,
            "_model_module": "@jupyter-widgets/base",
            "top": null,
            "grid_column": null,
            "overflow_y": null,
            "overflow_x": null,
            "grid_auto_flow": null,
            "grid_area": null,
            "grid_template_columns": null,
            "flex": null,
            "_model_name": "LayoutModel",
            "justify_items": null,
            "grid_row": null,
            "max_height": null,
            "align_content": null,
            "visibility": null,
            "align_self": null,
            "height": null,
            "min_height": null,
            "padding": null,
            "grid_auto_rows": null,
            "grid_gap": null,
            "max_width": null,
            "order": null,
            "_view_module_version": "1.2.0",
            "grid_template_areas": null,
            "object_position": null,
            "object_fit": null,
            "grid_auto_columns": null,
            "margin": null,
            "display": null,
            "left": null
          }
        },
        "3748b404aa764caca052e7bfc115cc6b": {
          "model_module": "@jupyter-widgets/controls",
          "model_name": "DescriptionStyleModel",
          "model_module_version": "1.5.0",
          "state": {
            "_view_name": "StyleView",
            "_model_name": "DescriptionStyleModel",
            "description_width": "",
            "_view_module": "@jupyter-widgets/base",
            "_model_module_version": "1.5.0",
            "_view_count": null,
            "_view_module_version": "1.2.0",
            "_model_module": "@jupyter-widgets/controls"
          }
        },
        "3f184a7e81384512b7d90a2587e25807": {
          "model_module": "@jupyter-widgets/base",
          "model_name": "LayoutModel",
          "model_module_version": "1.2.0",
          "state": {
            "_view_name": "LayoutView",
            "grid_template_rows": null,
            "right": null,
            "justify_content": null,
            "_view_module": "@jupyter-widgets/base",
            "overflow": null,
            "_model_module_version": "1.2.0",
            "_view_count": null,
            "flex_flow": null,
            "width": null,
            "min_width": null,
            "border": null,
            "align_items": null,
            "bottom": null,
            "_model_module": "@jupyter-widgets/base",
            "top": null,
            "grid_column": null,
            "overflow_y": null,
            "overflow_x": null,
            "grid_auto_flow": null,
            "grid_area": null,
            "grid_template_columns": null,
            "flex": null,
            "_model_name": "LayoutModel",
            "justify_items": null,
            "grid_row": null,
            "max_height": null,
            "align_content": null,
            "visibility": null,
            "align_self": null,
            "height": null,
            "min_height": null,
            "padding": null,
            "grid_auto_rows": null,
            "grid_gap": null,
            "max_width": null,
            "order": null,
            "_view_module_version": "1.2.0",
            "grid_template_areas": null,
            "object_position": null,
            "object_fit": null,
            "grid_auto_columns": null,
            "margin": null,
            "display": null,
            "left": null
          }
        },
        "268bf535484345c186d9e6e61ea7a32b": {
          "model_module": "@jupyter-widgets/controls",
          "model_name": "HBoxModel",
          "model_module_version": "1.5.0",
          "state": {
            "_view_name": "HBoxView",
            "_dom_classes": [],
            "_model_name": "HBoxModel",
            "_view_module": "@jupyter-widgets/controls",
            "_model_module_version": "1.5.0",
            "_view_count": null,
            "_view_module_version": "1.5.0",
            "box_style": "",
            "layout": "IPY_MODEL_68acd05210f04f7fa96895413c70eae4",
            "_model_module": "@jupyter-widgets/controls",
            "children": [
              "IPY_MODEL_4d29b91e190941cc99913dd6fae217c2",
              "IPY_MODEL_f31aa51f5cf24fd895f90d1c3d516626",
              "IPY_MODEL_78e1e975ec0645e09cf4125afa019518"
            ]
          }
        },
        "68acd05210f04f7fa96895413c70eae4": {
          "model_module": "@jupyter-widgets/base",
          "model_name": "LayoutModel",
          "model_module_version": "1.2.0",
          "state": {
            "_view_name": "LayoutView",
            "grid_template_rows": null,
            "right": null,
            "justify_content": null,
            "_view_module": "@jupyter-widgets/base",
            "overflow": null,
            "_model_module_version": "1.2.0",
            "_view_count": null,
            "flex_flow": null,
            "width": null,
            "min_width": null,
            "border": null,
            "align_items": null,
            "bottom": null,
            "_model_module": "@jupyter-widgets/base",
            "top": null,
            "grid_column": null,
            "overflow_y": null,
            "overflow_x": null,
            "grid_auto_flow": null,
            "grid_area": null,
            "grid_template_columns": null,
            "flex": null,
            "_model_name": "LayoutModel",
            "justify_items": null,
            "grid_row": null,
            "max_height": null,
            "align_content": null,
            "visibility": null,
            "align_self": null,
            "height": null,
            "min_height": null,
            "padding": null,
            "grid_auto_rows": null,
            "grid_gap": null,
            "max_width": null,
            "order": null,
            "_view_module_version": "1.2.0",
            "grid_template_areas": null,
            "object_position": null,
            "object_fit": null,
            "grid_auto_columns": null,
            "margin": null,
            "display": null,
            "left": null
          }
        },
        "4d29b91e190941cc99913dd6fae217c2": {
          "model_module": "@jupyter-widgets/controls",
          "model_name": "HTMLModel",
          "model_module_version": "1.5.0",
          "state": {
            "_view_name": "HTMLView",
            "style": "IPY_MODEL_368060f6b607449989894be454737a06",
            "_dom_classes": [],
            "description": "",
            "_model_name": "HTMLModel",
            "placeholder": "​",
            "_view_module": "@jupyter-widgets/controls",
            "_model_module_version": "1.5.0",
            "value": "Downloading http://nlp.stanford.edu/software/stanza/1.2.1/id/default.zip: 100%",
            "_view_count": null,
            "_view_module_version": "1.5.0",
            "description_tooltip": null,
            "_model_module": "@jupyter-widgets/controls",
            "layout": "IPY_MODEL_765dbfc8b13f4b6bbc2481e978e6cf93"
          }
        },
        "f31aa51f5cf24fd895f90d1c3d516626": {
          "model_module": "@jupyter-widgets/controls",
          "model_name": "FloatProgressModel",
          "model_module_version": "1.5.0",
          "state": {
            "_view_name": "ProgressView",
            "style": "IPY_MODEL_9bc37c415d9a4c5cb8305cc1d28c9991",
            "_dom_classes": [],
            "description": "",
            "_model_name": "FloatProgressModel",
            "bar_style": "success",
            "max": 200710886,
            "_view_module": "@jupyter-widgets/controls",
            "_model_module_version": "1.5.0",
            "value": 200710886,
            "_view_count": null,
            "_view_module_version": "1.5.0",
            "orientation": "horizontal",
            "min": 0,
            "description_tooltip": null,
            "_model_module": "@jupyter-widgets/controls",
            "layout": "IPY_MODEL_af23990165e347699b5e3adfca355a23"
          }
        },
        "78e1e975ec0645e09cf4125afa019518": {
          "model_module": "@jupyter-widgets/controls",
          "model_name": "HTMLModel",
          "model_module_version": "1.5.0",
          "state": {
            "_view_name": "HTMLView",
            "style": "IPY_MODEL_c8af2cca5b264c4db7c762bacd7ce93f",
            "_dom_classes": [],
            "description": "",
            "_model_name": "HTMLModel",
            "placeholder": "​",
            "_view_module": "@jupyter-widgets/controls",
            "_model_module_version": "1.5.0",
            "value": " 201M/201M [00:33&lt;00:00, 5.31MB/s]",
            "_view_count": null,
            "_view_module_version": "1.5.0",
            "description_tooltip": null,
            "_model_module": "@jupyter-widgets/controls",
            "layout": "IPY_MODEL_91ccbe76924044a282592df5215ad5a9"
          }
        },
        "368060f6b607449989894be454737a06": {
          "model_module": "@jupyter-widgets/controls",
          "model_name": "DescriptionStyleModel",
          "model_module_version": "1.5.0",
          "state": {
            "_view_name": "StyleView",
            "_model_name": "DescriptionStyleModel",
            "description_width": "",
            "_view_module": "@jupyter-widgets/base",
            "_model_module_version": "1.5.0",
            "_view_count": null,
            "_view_module_version": "1.2.0",
            "_model_module": "@jupyter-widgets/controls"
          }
        },
        "765dbfc8b13f4b6bbc2481e978e6cf93": {
          "model_module": "@jupyter-widgets/base",
          "model_name": "LayoutModel",
          "model_module_version": "1.2.0",
          "state": {
            "_view_name": "LayoutView",
            "grid_template_rows": null,
            "right": null,
            "justify_content": null,
            "_view_module": "@jupyter-widgets/base",
            "overflow": null,
            "_model_module_version": "1.2.0",
            "_view_count": null,
            "flex_flow": null,
            "width": null,
            "min_width": null,
            "border": null,
            "align_items": null,
            "bottom": null,
            "_model_module": "@jupyter-widgets/base",
            "top": null,
            "grid_column": null,
            "overflow_y": null,
            "overflow_x": null,
            "grid_auto_flow": null,
            "grid_area": null,
            "grid_template_columns": null,
            "flex": null,
            "_model_name": "LayoutModel",
            "justify_items": null,
            "grid_row": null,
            "max_height": null,
            "align_content": null,
            "visibility": null,
            "align_self": null,
            "height": null,
            "min_height": null,
            "padding": null,
            "grid_auto_rows": null,
            "grid_gap": null,
            "max_width": null,
            "order": null,
            "_view_module_version": "1.2.0",
            "grid_template_areas": null,
            "object_position": null,
            "object_fit": null,
            "grid_auto_columns": null,
            "margin": null,
            "display": null,
            "left": null
          }
        },
        "9bc37c415d9a4c5cb8305cc1d28c9991": {
          "model_module": "@jupyter-widgets/controls",
          "model_name": "ProgressStyleModel",
          "model_module_version": "1.5.0",
          "state": {
            "_view_name": "StyleView",
            "_model_name": "ProgressStyleModel",
            "description_width": "",
            "_view_module": "@jupyter-widgets/base",
            "_model_module_version": "1.5.0",
            "_view_count": null,
            "_view_module_version": "1.2.0",
            "bar_color": null,
            "_model_module": "@jupyter-widgets/controls"
          }
        },
        "af23990165e347699b5e3adfca355a23": {
          "model_module": "@jupyter-widgets/base",
          "model_name": "LayoutModel",
          "model_module_version": "1.2.0",
          "state": {
            "_view_name": "LayoutView",
            "grid_template_rows": null,
            "right": null,
            "justify_content": null,
            "_view_module": "@jupyter-widgets/base",
            "overflow": null,
            "_model_module_version": "1.2.0",
            "_view_count": null,
            "flex_flow": null,
            "width": null,
            "min_width": null,
            "border": null,
            "align_items": null,
            "bottom": null,
            "_model_module": "@jupyter-widgets/base",
            "top": null,
            "grid_column": null,
            "overflow_y": null,
            "overflow_x": null,
            "grid_auto_flow": null,
            "grid_area": null,
            "grid_template_columns": null,
            "flex": null,
            "_model_name": "LayoutModel",
            "justify_items": null,
            "grid_row": null,
            "max_height": null,
            "align_content": null,
            "visibility": null,
            "align_self": null,
            "height": null,
            "min_height": null,
            "padding": null,
            "grid_auto_rows": null,
            "grid_gap": null,
            "max_width": null,
            "order": null,
            "_view_module_version": "1.2.0",
            "grid_template_areas": null,
            "object_position": null,
            "object_fit": null,
            "grid_auto_columns": null,
            "margin": null,
            "display": null,
            "left": null
          }
        },
        "c8af2cca5b264c4db7c762bacd7ce93f": {
          "model_module": "@jupyter-widgets/controls",
          "model_name": "DescriptionStyleModel",
          "model_module_version": "1.5.0",
          "state": {
            "_view_name": "StyleView",
            "_model_name": "DescriptionStyleModel",
            "description_width": "",
            "_view_module": "@jupyter-widgets/base",
            "_model_module_version": "1.5.0",
            "_view_count": null,
            "_view_module_version": "1.2.0",
            "_model_module": "@jupyter-widgets/controls"
          }
        },
        "91ccbe76924044a282592df5215ad5a9": {
          "model_module": "@jupyter-widgets/base",
          "model_name": "LayoutModel",
          "model_module_version": "1.2.0",
          "state": {
            "_view_name": "LayoutView",
            "grid_template_rows": null,
            "right": null,
            "justify_content": null,
            "_view_module": "@jupyter-widgets/base",
            "overflow": null,
            "_model_module_version": "1.2.0",
            "_view_count": null,
            "flex_flow": null,
            "width": null,
            "min_width": null,
            "border": null,
            "align_items": null,
            "bottom": null,
            "_model_module": "@jupyter-widgets/base",
            "top": null,
            "grid_column": null,
            "overflow_y": null,
            "overflow_x": null,
            "grid_auto_flow": null,
            "grid_area": null,
            "grid_template_columns": null,
            "flex": null,
            "_model_name": "LayoutModel",
            "justify_items": null,
            "grid_row": null,
            "max_height": null,
            "align_content": null,
            "visibility": null,
            "align_self": null,
            "height": null,
            "min_height": null,
            "padding": null,
            "grid_auto_rows": null,
            "grid_gap": null,
            "max_width": null,
            "order": null,
            "_view_module_version": "1.2.0",
            "grid_template_areas": null,
            "object_position": null,
            "object_fit": null,
            "grid_auto_columns": null,
            "margin": null,
            "display": null,
            "left": null
          }
        }
      }
    },
    "accelerator": "GPU"
  },
  "cells": [
    {
      "cell_type": "markdown",
      "source": [
        "# AMR Silver Data Creation\n",
        "Steps:\n",
        "1. get 200k sentences from Indo4b corpus\n",
        "2. generate amr from those sentences using AMR parser\n",
        "\n",
        "note: this notebook is created using google colab"
      ],
      "metadata": {
        "id": "yvPvO2tca8_M"
      }
    },
    {
      "cell_type": "markdown",
      "source": [
        "## Get 200k sentences from Indo4b corpus\n",
        "- note: only get formal indonesian sentences (e.g: news articles)"
      ],
      "metadata": {
        "id": "8rY9zfU6bHq7"
      }
    },
    {
      "cell_type": "code",
      "source": [
        "!wget https://storage.googleapis.com/babert-pretraining/IndoNLU_finals/dataset/preprocessed/dataset_wot_uncased_blanklines.tar.xz"
      ],
      "metadata": {
        "colab": {
          "base_uri": "https://localhost:8080/"
        },
        "id": "FrfJwWbrV198",
        "outputId": "9c8095e1-8ae7-4620-f5c7-c2e052b98e50"
      },
      "execution_count": null,
      "outputs": [
        {
          "output_type": "stream",
          "name": "stdout",
          "text": [
            "--2022-01-18 09:01:08--  https://storage.googleapis.com/babert-pretraining/IndoNLU_finals/dataset/preprocessed/dataset_wot_uncased_blanklines.tar.xz\n",
            "Resolving storage.googleapis.com (storage.googleapis.com)... 142.250.145.128, 74.125.143.128, 173.194.69.128, ...\n",
            "Connecting to storage.googleapis.com (storage.googleapis.com)|142.250.145.128|:443... connected.\n",
            "HTTP request sent, awaiting response... 200 OK\n",
            "Length: 6017328328 (5.6G) [application/x-tar]\n",
            "Saving to: ‘dataset_wot_uncased_blanklines.tar.xz’\n",
            "\n",
            "dataset_wot_uncased 100%[===================>]   5.60G  33.6MB/s    in 1m 54s  \n",
            "\n",
            "2022-01-18 09:03:03 (50.4 MB/s) - ‘dataset_wot_uncased_blanklines.tar.xz’ saved [6017328328/6017328328]\n",
            "\n"
          ]
        }
      ]
    },
    {
      "cell_type": "code",
      "source": [
        "!tar -xf dataset_wot_uncased_blanklines.tar.xz"
      ],
      "metadata": {
        "id": "f-Q6IPDmXKTB"
      },
      "execution_count": null,
      "outputs": []
    },
    {
      "cell_type": "code",
      "source": [
        "!ls /content/processed_uncased_blanklines"
      ],
      "metadata": {
        "colab": {
          "base_uri": "https://localhost:8080/"
        },
        "id": "0v2-S01UfgNj",
        "outputId": "69662861-a6dc-4e95-a8d7-77006c137eda"
      },
      "execution_count": null,
      "outputs": [
        {
          "output_type": "stream",
          "name": "stdout",
          "text": [
            "bppt.txt\t\tkompas.txt\t       talpco_indonesia.txt\n",
            "conllu_all_uncased.txt\topensubtitles.txt      tempo.txt\n",
            "frog_storytelling.txt\toscar_all_uncased.txt  wikipedia_conllu.txt\n",
            "jw300.txt\t\tparallel_corpus.txt    wiki.txt\n"
          ]
        }
      ]
    },
    {
      "cell_type": "code",
      "source": [
        "FOLDER_PATH = '/content/processed_uncased_blanklines'"
      ],
      "metadata": {
        "id": "RRM_ZOzGfjHm"
      },
      "execution_count": null,
      "outputs": []
    },
    {
      "cell_type": "code",
      "source": [
        "import os\n",
        "import random\n",
        "import math"
      ],
      "metadata": {
        "id": "iSdio0Q4fpwD"
      },
      "execution_count": null,
      "outputs": []
    },
    {
      "cell_type": "code",
      "source": [
        "list_sentences_from_tempo = []\n",
        "with open(os.path.join(FOLDER_PATH, 'tempo.txt')) as f:\n",
        "  for _ in range(5):\n",
        "    sent = f.readline()\n",
        "    print(f'length: {len(sent)}', ' | ',  f'sentence: {sent}')"
      ],
      "metadata": {
        "colab": {
          "base_uri": "https://localhost:8080/"
        },
        "id": "eK0IS_pCiqI3",
        "outputId": "3c1f9458-049b-4cf2-af02-5f281d5fb437"
      },
      "execution_count": null,
      "outputs": [
        {
          "output_type": "stream",
          "name": "stdout",
          "text": [
            "length: 76  |  sentence: partai persatuan bangsa adalah partai yang telah memperoleh nur dari allah.\n",
            "\n",
            "length: 111  |  sentence: partai ini pulalah yang benar-benar dilahirkan oleh para ulama dan fusi dari partai-partai islam di indonesia.\n",
            "\n",
            "length: 176  |  sentence: hal itu disampaikan ketua umum ppp hamzah haz dalam sambutannya dalam perayaan hari lahir (harlah) partai itu yang ke-29 di gelora bung karno, senayan, jakarta, minggu (21/4).\n",
            "\n",
            "length: 1  |  sentence: \n",
            "\n",
            "length: 163  |  sentence: di hadapan puluhan ribu pedukungnya, hamzah haz yang saat ini menjadi orang nomor dua di republik ini menegaskan, ppp sampai saat ini masih tetap kukuh dan besar.\n",
            "\n"
          ]
        }
      ]
    },
    {
      "cell_type": "code",
      "source": [
        "def get_sentences_from_corpus(file_path, cnt_sentences = 100000, max_iter = 1000000, min_len = 1, max_len=384):\n",
        "  # get some sentences from corpus\n",
        "  file_size = os.path.getsize(file_path)\n",
        "  max_iter = min(max_iter, file_size)\n",
        "  list_sentences = []\n",
        "  cnt = 0\n",
        "  with open(file_path) as f:\n",
        "    for _ in range(file_size):\n",
        "      if (cnt==max_iter):\n",
        "        break\n",
        "\n",
        "      sent = f.readline()\n",
        "      if (\"'\" not in sent and '\"' not in sent and len(sent)>=min_len and len(sent)<=max_len and len(sent.split())>=2):\n",
        "        list_sentences.append(sent.strip())\n",
        "        cnt += 1\n",
        "  \n",
        "  # choose sentences in a uniform distribution\n",
        "  cnt_sentences = min(cnt_sentences, len(list_sentences)-1)\n",
        "  step = math.floor(len(list_sentences) / cnt_sentences)\n",
        "  list_chosen_idx_sent = []\n",
        "  cnt = 0\n",
        "  for i in range(0, len(list_sentences), step):\n",
        "    list_chosen_idx_sent.append(i)\n",
        "    cnt+=1\n",
        "    if (cnt==cnt_sentences):\n",
        "      break\n",
        "\n",
        "  random.shuffle(list_chosen_idx_sent)\n",
        "  print(list_chosen_idx_sent[0:10])\n",
        "  final_list_sentences =  [list_sentences[i] for i in list_chosen_idx_sent]\n",
        "\n",
        "  return final_list_sentences\n",
        "  "
      ],
      "metadata": {
        "id": "Nt4bK1xufpx4"
      },
      "execution_count": null,
      "outputs": []
    },
    {
      "cell_type": "markdown",
      "source": [
        "### Get 100k sentences from indo4b tempo (news article from Tempo)"
      ],
      "metadata": {
        "id": "Wz3LDrBTzaU2"
      }
    },
    {
      "cell_type": "code",
      "source": [
        "list_sentences = get_sentences_from_corpus(os.path.join(FOLDER_PATH, 'tempo.txt'))"
      ],
      "metadata": {
        "colab": {
          "base_uri": "https://localhost:8080/"
        },
        "id": "NFZBCxaqfpz1",
        "outputId": "91dea6e4-e859-4265-94e0-5f07e693e6c8"
      },
      "execution_count": null,
      "outputs": [
        {
          "output_type": "stream",
          "name": "stdout",
          "text": [
            "[47006, 72672, 165006, 77628, 216, 121350, 62066, 84880, 137600, 3238]\n"
          ]
        }
      ]
    },
    {
      "cell_type": "code",
      "source": [
        "len(list_sentences)"
      ],
      "metadata": {
        "colab": {
          "base_uri": "https://localhost:8080/"
        },
        "id": "D0fIbvqyfp3R",
        "outputId": "3528393b-3ad4-46a4-9e8a-ed52972e5744"
      },
      "execution_count": null,
      "outputs": [
        {
          "output_type": "execute_result",
          "data": {
            "text/plain": [
              "100000"
            ]
          },
          "metadata": {},
          "execution_count": 31
        }
      ]
    },
    {
      "cell_type": "code",
      "source": [
        "list_sentences[0:10]"
      ],
      "metadata": {
        "colab": {
          "base_uri": "https://localhost:8080/"
        },
        "id": "LU-TG0hwsHf-",
        "outputId": "b088423a-9f13-4cb5-fd7b-f8dc22603252"
      },
      "execution_count": null,
      "outputs": [
        {
          "output_type": "execute_result",
          "data": {
            "text/plain": [
              "['heran, sudah puluhan kali pemilihan pansus, baru kali ini berjalan alot dan sampai harus berjalan melalui voting.',\n",
              " 'masalah ini seperti upah buruh, aksi buruh, dan masalah-masalah keamanan lainnya.',\n",
              " 'pengadilan in absentia digelar karena hendra rahardja kini masih berada di australia dan menolak diekstradisi ke indonesia.',\n",
              " 'tapi harus diingat, konsepnya itu penanggulangan pertama dilakukan oleh pemda.',\n",
              " 'forum silaturahmi ulama yang beranggotakan para ulama di cisarua, bogor, jawa barat meminta aparat kepolisian untuk membebaskan santri-santrinya.',\n",
              " 'menurutnya, kekurangbijakan mpr dalam mengambil keputusan justru akan melahirkan sesuatu yang menyakitkan bagi bangsa ini.',\n",
              " 'meski demikian, menurut dia, tetap diperlukan surat resmi ke interpol.',\n",
              " 'jadi tak semuanya berindikasi komunis.',\n",
              " 'setelah itu presiden dan wapres melakukan acara foto bersama dengan para anggota kontingen yang dilanjutkan dengan acara ramah ramah di lingkungan wisma negara.',\n",
              " 'saya harus menghindari untuk menyatakan pasti adanya keterlibatan itu.']"
            ]
          },
          "metadata": {},
          "execution_count": 32
        }
      ]
    },
    {
      "cell_type": "code",
      "source": [
        "for split in range(5):\n",
        "  start_idx = split*20000\n",
        "  stop_idx = start_idx + 20000\n",
        "  with open(os.path.join(FOLDER_PATH, f'20k_indo4b_tempo_{split+1}.txt'), 'w') as f:\n",
        "    for i in range(start_idx, stop_idx):\n",
        "      f.write(list_sentences[i])\n",
        "      f.write('\\n')"
      ],
      "metadata": {
        "id": "JGc1OwIJyseR"
      },
      "execution_count": null,
      "outputs": []
    },
    {
      "cell_type": "markdown",
      "source": [
        "### Get 100k sentences from indo4b kompas (news article from Kompas)"
      ],
      "metadata": {
        "id": "cnEzL6lLzlt0"
      }
    },
    {
      "cell_type": "code",
      "source": [
        "list_sentences = get_sentences_from_corpus(os.path.join(FOLDER_PATH, 'kompas.txt'))"
      ],
      "metadata": {
        "colab": {
          "base_uri": "https://localhost:8080/"
        },
        "id": "pkrTHzaUzppY",
        "outputId": "35047326-ff51-4134-ef0c-a9b2bdda3456"
      },
      "execution_count": null,
      "outputs": [
        {
          "output_type": "stream",
          "name": "stdout",
          "text": [
            "[7381, 86937, 72410, 27866, 32574, 33056, 10622, 95412, 42741, 11803]\n"
          ]
        }
      ]
    },
    {
      "cell_type": "code",
      "source": [
        "len(list_sentences)"
      ],
      "metadata": {
        "colab": {
          "base_uri": "https://localhost:8080/"
        },
        "id": "4g8LHFi7zrpD",
        "outputId": "90516ff7-14d0-4519-da8c-07f0f47dd0a8"
      },
      "execution_count": null,
      "outputs": [
        {
          "output_type": "execute_result",
          "data": {
            "text/plain": [
              "100000"
            ]
          },
          "metadata": {},
          "execution_count": 35
        }
      ]
    },
    {
      "cell_type": "code",
      "source": [
        "list_sentences[0:10]"
      ],
      "metadata": {
        "colab": {
          "base_uri": "https://localhost:8080/"
        },
        "id": "9ni1ne1lzrsp",
        "outputId": "07e6c08b-c1e0-473c-d3a2-cf4b09c6e9dc"
      },
      "execution_count": null,
      "outputs": [
        {
          "output_type": "execute_result",
          "data": {
            "text/plain": [
              "['di situ diceritakan bagaimana anaknya minta izin tidak bisa pulang lebaran, karena ada janji main ski di alpen, yang lain lagi masih magang di ibm di new york, dan seterusnya.',\n",
              " 'meski belum disampaikan, untuk sementara, pemerintah telah menetapkan angka defisit anggaran sebesar rp 56 trilyun lebih, atau 3,8 persen dari produk domestik bruto (pdb).',\n",
              " 'mendagri hari sabarno dalam tanggapannya mengenai berbagai minderheidsnota itu mengatakan bahwa pemerintah tidak pernah membuat peraturan yang mendiskriminasi perempuan dan laki-laki.',\n",
              " 'berbeda dalam penyelenggaraan komunikasi bergerak (selular), terdapat pilihan provider yang berkompetisi sehat memberikan pelayanan terbaiknya.',\n",
              " 'dalam arti tidak mengizinkan satu pesawat pun lepas landas.',\n",
              " 'untuk itu, tidak tanggung-tanggung, sembilan dari sepuluh orang amerika mendukung dilakukan tindakan militer.',\n",
              " 'utang piutang',\n",
              " 'kebijakan itu ditempuh untuk mengantisipasi ekspektasi masyarakat terhadap inflasi yang cukup tinggi dewasa ini.',\n",
              " 'harapannya, dia bisa memberikan bungkusan bom itu tanpa disadari orang yang diperintahkannya.',\n",
              " 'ditegaskan pula bahwa keputusan presiden yang inkonstitusional akan sangat berpengaruh terhadap pasar.']"
            ]
          },
          "metadata": {},
          "execution_count": 36
        }
      ]
    },
    {
      "cell_type": "code",
      "source": [
        "for split in range(5):\n",
        "  start_idx = split*20000\n",
        "  stop_idx = start_idx + 20000\n",
        "  with open(os.path.join(FOLDER_PATH, f'20k_indo4b_kompas_{split+1}.txt'), 'w') as f:\n",
        "    for i in range(start_idx, stop_idx):\n",
        "      f.write(list_sentences[i])\n",
        "      f.write('\\n')"
      ],
      "metadata": {
        "id": "BBROaBtzzu3R"
      },
      "execution_count": null,
      "outputs": []
    },
    {
      "cell_type": "code",
      "source": [
        "%cd /content/processed_uncased_blanklines"
      ],
      "metadata": {
        "colab": {
          "base_uri": "https://localhost:8080/"
        },
        "id": "gGoyQwmx8n7I",
        "outputId": "8f56e8cd-fd59-4714-b63f-4eb82124bbaf"
      },
      "execution_count": null,
      "outputs": [
        {
          "output_type": "stream",
          "name": "stdout",
          "text": [
            "/content/processed_uncased_blanklines\n"
          ]
        }
      ]
    },
    {
      "cell_type": "code",
      "source": [
        "!zip -q 200k_sentences_indo4b.zip *_indo4b_kompas_*.txt *_indo4b_tempo_*.txt"
      ],
      "metadata": {
        "id": "T7mVhRFa7yNa"
      },
      "execution_count": null,
      "outputs": []
    },
    {
      "cell_type": "markdown",
      "source": [
        "## Generate AMR\n",
        "- Generate AMR for all those 200k sentences\n",
        "- note: the usage for AMR parser is following this repo https://github.com/banditelol/amr_parser"
      ],
      "metadata": {
        "id": "fpyiCfSSbW7r"
      }
    },
    {
      "cell_type": "markdown",
      "source": [
        "### Setup"
      ],
      "metadata": {
        "id": "kIqSr5kt0qfb"
      }
    },
    {
      "cell_type": "code",
      "execution_count": null,
      "metadata": {
        "colab": {
          "base_uri": "https://localhost:8080/"
        },
        "id": "MX1ATR9BUKw1",
        "outputId": "7dc412ca-450e-480f-8578-5fb260322609"
      },
      "outputs": [
        {
          "output_type": "stream",
          "name": "stdout",
          "text": [
            "Cloning into 'amr_parser'...\n",
            "remote: Enumerating objects: 2542, done.\u001b[K\n",
            "remote: Counting objects: 100% (2542/2542), done.\u001b[K\n",
            "remote: Compressing objects: 100% (2093/2093), done.\u001b[K\n",
            "remote: Total 2542 (delta 489), reused 2483 (delta 438), pack-reused 0\u001b[K\n",
            "Receiving objects: 100% (2542/2542), 3.76 MiB | 20.91 MiB/s, done.\n",
            "Resolving deltas: 100% (489/489), done.\n",
            "/content/amr_parser\n"
          ]
        }
      ],
      "source": [
        "!git clone https://github.com/taufiqhusada/amr_parser.git\n",
        "%cd /content/amr_parser"
      ]
    },
    {
      "cell_type": "code",
      "source": [
        "!pip install -r requirements.txt\n",
        "!pip install pandas --upgrade"
      ],
      "metadata": {
        "id": "PoubNI54UdZA"
      },
      "execution_count": null,
      "outputs": []
    },
    {
      "cell_type": "code",
      "source": [
        "%cd /content/amr_parser\n",
        "!chmod +x update-anago.sh\n",
        "!./update-anago.sh -d /usr/local/lib/python3.7/dist-packages/anago"
      ],
      "metadata": {
        "colab": {
          "base_uri": "https://localhost:8080/"
        },
        "id": "Z6XdloWwUmIU",
        "outputId": "34e12fab-c83e-4ff4-819c-bce2a64854a4"
      },
      "execution_count": null,
      "outputs": [
        {
          "output_type": "stream",
          "name": "stdout",
          "text": [
            "/content/amr_parser\n",
            "commit_hash is unset, using default hash directory\n",
            "anago directory: '/usr/local/lib/python3.7/dist-packages/anago'\n",
            "commit hash: '9afccaa5bcc232676f9c2b59faa4c9531fb25190'\n",
            "check https://raw.githubusercontent.com/banditelol/anago/9afccaa5bcc232676f9c2b59faa4c9531fb25190 for included files\n",
            "updating callbacks.py\n",
            "2022-01-19 01:00:29 URL:https://raw.githubusercontent.com/banditelol/anago/9afccaa5bcc232676f9c2b59faa4c9531fb25190/anago/callbacks.py [1257/1257] -> \"/usr/local/lib/python3.7/dist-packages/anago/callbacks.py\" [1]\n",
            "updating layers.py\n",
            "2022-01-19 01:00:29 URL:https://raw.githubusercontent.com/banditelol/anago/9afccaa5bcc232676f9c2b59faa4c9531fb25190/anago/layers.py [25660/25660] -> \"/usr/local/lib/python3.7/dist-packages/anago/layers.py\" [1]\n",
            "updating models.py\n",
            "2022-01-19 01:00:30 URL:https://raw.githubusercontent.com/banditelol/anago/9afccaa5bcc232676f9c2b59faa4c9531fb25190/anago/models.py [4931/4931] -> \"/usr/local/lib/python3.7/dist-packages/anago/models.py\" [1]\n",
            "updating preprocessing.py\n",
            "2022-01-19 01:00:33 URL:https://raw.githubusercontent.com/banditelol/anago/9afccaa5bcc232676f9c2b59faa4c9531fb25190/anago/preprocessing.py [5757/5757] -> \"/usr/local/lib/python3.7/dist-packages/anago/preprocessing.py\" [1]\n",
            "updating utils.py\n",
            "2022-01-19 01:00:33 URL:https://raw.githubusercontent.com/banditelol/anago/9afccaa5bcc232676f9c2b59faa4c9531fb25190/anago/utils.py [7450/7450] -> \"/usr/local/lib/python3.7/dist-packages/anago/utils.py\" [1]\n"
          ]
        }
      ]
    },
    {
      "cell_type": "code",
      "source": [
        "#Install needed resources \n",
        "import stanfordnlp; import stanza; import nltk; \n",
        "stanza.download('id'); nltk.download('punkt')"
      ],
      "metadata": {
        "colab": {
          "base_uri": "https://localhost:8080/",
          "height": 300,
          "referenced_widgets": [
            "b2e2c44cdd5c48d3879e28a4d2b99277",
            "e57a66d4e4db465b9be2e64628ba00b6",
            "dbfb9799e70f411e9d4e27e0f79ed422",
            "57a779e3d4c6472ea3c4337b511d3913",
            "7a0bc44992884c148f4f5e1d8b9a7a14",
            "3322c0195a64487fb25c730a61980254",
            "42b319397a0a4249ad09cc5d25531bb9",
            "b4e115ecda204b68b6afabec0741f880",
            "206564129e094e0a922a467c29f7cadc",
            "3748b404aa764caca052e7bfc115cc6b",
            "3f184a7e81384512b7d90a2587e25807",
            "268bf535484345c186d9e6e61ea7a32b",
            "68acd05210f04f7fa96895413c70eae4",
            "4d29b91e190941cc99913dd6fae217c2",
            "f31aa51f5cf24fd895f90d1c3d516626",
            "78e1e975ec0645e09cf4125afa019518",
            "368060f6b607449989894be454737a06",
            "765dbfc8b13f4b6bbc2481e978e6cf93",
            "9bc37c415d9a4c5cb8305cc1d28c9991",
            "af23990165e347699b5e3adfca355a23",
            "c8af2cca5b264c4db7c762bacd7ce93f",
            "91ccbe76924044a282592df5215ad5a9"
          ]
        },
        "id": "gghOfXOBVhCU",
        "outputId": "eed98d6b-9ac1-4c01-be00-a068338aed74"
      },
      "execution_count": null,
      "outputs": [
        {
          "output_type": "display_data",
          "data": {
            "application/vnd.jupyter.widget-view+json": {
              "model_id": "b2e2c44cdd5c48d3879e28a4d2b99277",
              "version_minor": 0,
              "version_major": 2
            },
            "text/plain": [
              "Downloading https://raw.githubusercontent.com/stanfordnlp/stanza-resources/main/resources_1.2.1.json:   0%|   …"
            ]
          },
          "metadata": {}
        },
        {
          "output_type": "stream",
          "name": "stderr",
          "text": [
            "2022-01-19 01:00:40 INFO: Downloading default packages for language: id (Indonesian)...\n"
          ]
        },
        {
          "output_type": "display_data",
          "data": {
            "application/vnd.jupyter.widget-view+json": {
              "model_id": "268bf535484345c186d9e6e61ea7a32b",
              "version_minor": 0,
              "version_major": 2
            },
            "text/plain": [
              "Downloading http://nlp.stanford.edu/software/stanza/1.2.1/id/default.zip:   0%|          | 0.00/201M [00:00<?,…"
            ]
          },
          "metadata": {}
        },
        {
          "output_type": "stream",
          "name": "stderr",
          "text": [
            "2022-01-19 01:01:16 INFO: Finished downloading models and saved to /root/stanza_resources.\n",
            "[nltk_data] Downloading package punkt to /root/nltk_data...\n",
            "[nltk_data]   Unzipping tokenizers/punkt.zip.\n"
          ]
        },
        {
          "output_type": "execute_result",
          "data": {
            "text/plain": [
              "True"
            ]
          },
          "metadata": {},
          "execution_count": 2
        }
      ]
    },
    {
      "cell_type": "code",
      "source": [
        "%cd /content/amr_parser\n",
        "# Download Adylan's Pretrained model\n",
        "!wget https://storage.googleapis.com/riset_amr/adylan/pretrained_feature_models.zip -O pretrained.zip\n",
        "!unzip pretrained.zip\n",
        "!rm pretrained.zip\n",
        "\n",
        "# Download NER model\n",
        "!wget https://storage.googleapis.com/riset_amr/pretrained_model/ner/model_ner_12514_softmax_v5_w2v_100_POS_LSTM_EmbNotTrainable_OOV-20210926T165506Z-001.zip\n",
        "!unzip model_ner_12514_softmax_v5_w2v_100_POS_LSTM_EmbNotTrainable_OOV-20210926T165506Z-001.zip -d pretrained\n",
        "!rm model_ner_12514_softmax_v5_w2v_100_POS_LSTM_EmbNotTrainable_OOV-20210926T165506Z-001.zip\n",
        "\n",
        "# Download Encoder-Decoder Model\n",
        "!wget https://storage.googleapis.com/riset_amr/adylan/pretrained_model_and_encoder.zip -O saved_model.zip \n",
        "!unzip saved_model.zip -d saved_model \n",
        "!rm saved_model.zip"
      ],
      "metadata": {
        "id": "5VNaJPTCVkFh"
      },
      "execution_count": null,
      "outputs": []
    },
    {
      "cell_type": "code",
      "source": [
        "%cd /content/amr_parser"
      ],
      "metadata": {
        "colab": {
          "base_uri": "https://localhost:8080/"
        },
        "id": "MO77UhVY9ENu",
        "outputId": "131bf18b-8b30-4fea-9193-5270fc8c3f5b"
      },
      "execution_count": null,
      "outputs": [
        {
          "output_type": "stream",
          "name": "stdout",
          "text": [
            "/content/amr_parser\n"
          ]
        }
      ]
    },
    {
      "cell_type": "code",
      "source": [
        "!python amr_parser.py --predict --file /content/processed_uncased_blanklines/20k_indo4b_kompas_1.txt --output /content/AMR_20k_indo4b_kompas_1.txt"
      ],
      "metadata": {
        "id": "pIMx6KC6VlOd"
      },
      "execution_count": null,
      "outputs": []
    },
    {
      "cell_type": "code",
      "source": [
        "!python amr_parser.py --predict --file /content/processed_uncased_blanklines/20k_indo4b_kompas_2.txt --output /content/AMR_20k_indo4b_kompas_2.txt"
      ],
      "metadata": {
        "id": "P2-nngFHberG"
      },
      "execution_count": null,
      "outputs": []
    },
    {
      "cell_type": "code",
      "source": [
        "!python amr_parser.py --predict --file /content/processed_uncased_blanklines/20k_indo4b_kompas_5.txt --output /content/AMR_20k_indo4b_kompas_5.txt\n"
      ],
      "metadata": {
        "id": "GDBb-aNFMrzB"
      },
      "execution_count": null,
      "outputs": []
    },
    {
      "cell_type": "code",
      "source": [
        "# ... continue to generate from all files"
      ],
      "metadata": {
        "id": "Bc6HGOF_ipGx"
      },
      "execution_count": null,
      "outputs": []
    }
  ]
}